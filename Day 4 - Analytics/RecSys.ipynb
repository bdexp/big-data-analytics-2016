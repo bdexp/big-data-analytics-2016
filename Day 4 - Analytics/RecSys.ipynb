{
 "cells": [
  {
   "cell_type": "code",
   "execution_count": null,
   "metadata": {
    "collapsed": false
   },
   "outputs": [],
   "source": [
    "from pyspark.mllib.recommendation import ALS, MatrixFactorizationModel, Rating"
   ]
  },
  {
   "cell_type": "code",
   "execution_count": null,
   "metadata": {
    "collapsed": true
   },
   "outputs": [],
   "source": [
    "# Set access keys for S3 bucket.\n",
    "sc._jsc.hadoopConfiguration().set(\"fs.s3n.awsAccessKeyId\", accessKeyId)\n",
    "sc._jsc.hadoopConfiguration().set(\"fs.s3n.awsSecretAccessKey\", secretAccessKey)\n",
    "\n",
    "# Paths. Change PATH_DATASET to ml-latest/ to get the larger dataset.\n",
    "PATH_BUCKET = 's3n://orvarsbucket/'\n",
    "PATH_DATASET = 'ml-latest-small/'"
   ]
  },
  {
   "cell_type": "code",
   "execution_count": null,
   "metadata": {
    "collapsed": false
   },
   "outputs": [],
   "source": [
    "from pyspark.sql import SQLContext\n",
    "from pyspark.sql.types import *\n",
    "from pyspark.sql.functions import *\n",
    "\n",
    "# Create Spark SQL context.\n",
    "sql_context = SQLContext(sc)\n",
    "\n",
    "# Read links.csv\n",
    "filename = 'links.csv'\n",
    "links_schema = StructType([ \\\n",
    "    StructField(\"movieId\", StringType(), True), \\\n",
    "    StructField(\"imdbId\", StringType(), True), \\\n",
    "    StructField(\"tmdbId\", StringType(), True), \\\n",
    "])\n",
    "\n",
    "links_rdd = sql_context.read \\\n",
    "    .format('com.databricks.spark.csv') \\\n",
    "    .options(header='true') \\\n",
    "    .load(PATH_BUCKET + PATH_DATASET + filename, schema=links_schema).rdd\n",
    "\n",
    "#links_df.cache()\n",
    "print 'Loaded ' + str(links_rdd.count()) + ' entries from ' + filename + '\\n'\n",
    "    \n",
    "# Read movies.csv\n",
    "filename = 'movies.csv'\n",
    "movies_schema = StructType([ \\\n",
    "    StructField(\"movieId\", StringType(), True), \\\n",
    "    StructField(\"title\", StringType(), True), \\\n",
    "    StructField(\"genres\", StringType(), True), \\\n",
    "])\n",
    "\n",
    "movies_rdd = sql_context.read \\\n",
    "    .format('com.databricks.spark.csv') \\\n",
    "    .options(header='true') \\\n",
    "    .load(PATH_BUCKET + PATH_DATASET + filename, schema=movies_schema).rdd\n",
    "\n",
    "#movies_df.cache()\n",
    "print 'Loaded ' + str(movies_rdd.count()) + ' entries from ' + filename + '\\n'\n",
    "    \n",
    "# Read ratings.csv\n",
    "filename = 'ratings.csv'\n",
    "ratings_schema = StructType([ \\\n",
    "    StructField(\"userId\", StringType(), True), \\\n",
    "    StructField(\"movieId\", StringType(), True), \\\n",
    "    StructField(\"rating\", FloatType(), True), \\\n",
    "    StructField(\"timestamp\", IntegerType(), True), \\\n",
    "])\n",
    "\n",
    "ratings_rdd = sql_context.read \\\n",
    "    .format('com.databricks.spark.csv') \\\n",
    "    .options(header='true') \\\n",
    "    .load(PATH_BUCKET + PATH_DATASET + filename, schema=ratings_schema).rdd\n",
    "\n",
    "#ratings_df.cache()\n",
    "print 'Loaded ' + str(ratings_rdd.count()) + ' entries from ' + filename + '\\n'\n",
    "    \n",
    "# Read tags.csv\n",
    "filename = 'tags.csv'\n",
    "tags_schema = StructType([ \\\n",
    "    StructField(\"userId\", StringType(), True), \\\n",
    "    StructField(\"movieId\", StringType(), True), \\\n",
    "    StructField(\"tag\", StringType(), True), \\\n",
    "    StructField(\"timestamp\", IntegerType(), True), \\\n",
    "])\n",
    "\n",
    "tags_rdd = sql_context.read \\\n",
    "    .format('com.databricks.spark.csv') \\\n",
    "    .options(header='true') \\\n",
    "    .load(PATH_BUCKET + PATH_DATASET + filename, schema=tags_schema).rdd\n",
    "\n",
    "#tags_df.cache()\n",
    "print 'Loaded ' + str(tags_rdd.count()) + ' entries from ' + filename + '\\n'"
   ]
  },
  {
   "cell_type": "code",
   "execution_count": null,
   "metadata": {
    "collapsed": false
   },
   "outputs": [],
   "source": [
    "movies_rdd.take(1)[0]"
   ]
  },
  {
   "cell_type": "code",
   "execution_count": null,
   "metadata": {
    "collapsed": false
   },
   "outputs": [],
   "source": [
    "ratings_rdd.take(1)[0]"
   ]
  },
  {
   "cell_type": "markdown",
   "metadata": {},
   "source": [
    "## Convert to expected data structure"
   ]
  },
  {
   "cell_type": "code",
   "execution_count": null,
   "metadata": {
    "collapsed": true
   },
   "outputs": [],
   "source": [
    "ratings = ratings_rdd.map(lambda row: Rating(int(row['userId']), int(row['movieId']), float(row['rating'])))"
   ]
  },
  {
   "cell_type": "code",
   "execution_count": null,
   "metadata": {
    "collapsed": false
   },
   "outputs": [],
   "source": [
    "# IF FROM OTHER SOURCE!!!\n",
    "# ratings = ratings_raw.zipWithIndex()\\\n",
    "# .filter(lambda kv: kv[1] > 0 and kv[1] < 100000)\\\n",
    "# .keys()\\\n",
    "# .map(lambda line: line.split(','))\\\n",
    "# .map(lambda l: Rating(int(l[0]), int(l[1]), float(l[2])))"
   ]
  },
  {
   "cell_type": "code",
   "execution_count": null,
   "metadata": {
    "collapsed": false
   },
   "outputs": [],
   "source": [
    "ratings.first()"
   ]
  },
  {
   "cell_type": "markdown",
   "metadata": {},
   "source": [
    "# Train Model"
   ]
  },
  {
   "cell_type": "code",
   "execution_count": null,
   "metadata": {
    "collapsed": false
   },
   "outputs": [],
   "source": [
    "# Build the recommendation model using Alternating Least Squares\n",
    "rank = 10\n",
    "numIterations = 10\n",
    "model = ALS.train(ratings, rank, numIterations)\n"
   ]
  },
  {
   "cell_type": "code",
   "execution_count": null,
   "metadata": {
    "collapsed": false
   },
   "outputs": [],
   "source": [
    "model.userFeatures().take(5)"
   ]
  },
  {
   "cell_type": "markdown",
   "metadata": {},
   "source": [
    "# Evaluate Model"
   ]
  },
  {
   "cell_type": "code",
   "execution_count": null,
   "metadata": {
    "collapsed": false
   },
   "outputs": [],
   "source": [
    "# Evaluate the model on training data\n",
    "testdata = ratings.map(lambda p: (p[0], p[1]))\n",
    "predictions = model.predictAll(testdata).map(lambda r: ((r[0], r[1]), r[2]))\n",
    "ratesAndPreds = ratings.map(lambda r: ((r[0], r[1]), r[2])).join(predictions)\n",
    "MSE = ratesAndPreds.map(lambda r: (r[1][0] - r[1][1])**2).mean()\n",
    "print(\"Mean Squared Error = \" + str(MSE))"
   ]
  }
 ],
 "metadata": {
  "kernelspec": {
   "display_name": "PySpark",
   "language": "python",
   "name": "pyspark"
  },
  "language_info": {
   "codemirror_mode": {
    "name": "ipython",
    "version": 2
   },
   "file_extension": ".py",
   "mimetype": "text/x-python",
   "name": "python",
   "nbconvert_exporter": "python",
   "pygments_lexer": "ipython2",
   "version": "2.7.10"
  }
 },
 "nbformat": 4,
 "nbformat_minor": 0
}
